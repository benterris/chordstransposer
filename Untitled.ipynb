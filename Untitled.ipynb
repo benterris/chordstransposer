{
 "cells": [
  {
   "cell_type": "code",
   "execution_count": 1,
   "metadata": {
    "collapsed": true
   },
   "outputs": [],
   "source": [
    "import re"
   ]
  },
  {
   "cell_type": "code",
   "execution_count": 55,
   "metadata": {
    "collapsed": true
   },
   "outputs": [],
   "source": [
    "scales = \"\"\"G Ab A Bb B C C# D Eb E F F# \n",
    "F F# G Ab A Bb B C Db D Eb E\n",
    "C C# D Eb E F F# G Ab A Bb B\"\"\"\n",
    "\n",
    "Fscale = ['F', 'F#', 'G', 'Ab', 'A', 'Bb', 'B', 'C', 'Db', 'D', 'Eb', 'E']\n",
    "Cscale = ['C', 'C#', 'D', 'Eb', 'E', 'F', 'F#', 'G', 'Ab', 'A', 'Bb', 'B']\n",
    "\n",
    "string = \"\"\"Before Lord God made the sea and the land,\n",
    "  F         F°           G-7sus      C  C+\n",
    "He held all the stars in the palm of his hand\n",
    "   F6/A         D7b9         G-7         G-7b5\n",
    "And they ran through his fingers like grains of sand\n",
    "        F/A              Bbmaj7 G-7   C7        F/C\n",
    "And one little star felt alone\n",
    "    F6/C G-/C  D7/C F°/C  C7\"\"\"\n",
    "\n",
    "chordLine = \"  F         F#°           G-7sus      C  C+\"\n",
    "allTones = \"A#|B#|C#|D#|E#|F#|G#|Ab|Bb|Cb|Db|Eb|Fb|Gb|A|B|C|D|E|F|G\""
   ]
  },
  {
   "cell_type": "code",
   "execution_count": 26,
   "metadata": {
    "collapsed": false
   },
   "outputs": [
    {
     "data": {
      "text/plain": [
       "['F', 'F#', 'G', 'C', 'C']"
      ]
     },
     "execution_count": 26,
     "metadata": {},
     "output_type": "execute_result"
    }
   ],
   "source": [
    "re.findall(allTones, chordLine)"
   ]
  },
  {
   "cell_type": "code",
   "execution_count": 14,
   "metadata": {
    "collapsed": true
   },
   "outputs": [],
   "source": [
    "def getScale(tone):\n",
    "    scalesList = scales.split('\\n')\n",
    "    for scale in scalesList :\n",
    "        if scale[:len(tone)] == tone :\n",
    "            return scale.split(' ')\n",
    "    return 'Error : not a tone'"
   ]
  },
  {
   "cell_type": "code",
   "execution_count": 17,
   "metadata": {
    "collapsed": false
   },
   "outputs": [
    {
     "data": {
      "text/plain": [
       "['C', 'C#', 'D', 'Eb', 'E', 'F', 'F#', 'G', 'Ab', 'A', 'Bb', 'B']"
      ]
     },
     "execution_count": 17,
     "metadata": {},
     "output_type": "execute_result"
    }
   ],
   "source": [
    "getScale('C')"
   ]
  },
  {
   "cell_type": "code",
   "execution_count": 30,
   "metadata": {
    "collapsed": false
   },
   "outputs": [
    {
     "ename": "ValueError",
     "evalue": "substring not found",
     "output_type": "error",
     "traceback": [
      "\u001b[0;31m---------------------------------------------------------------------------\u001b[0m",
      "\u001b[0;31mValueError\u001b[0m                                Traceback (most recent call last)",
      "\u001b[0;32m<ipython-input-30-66bc3e5e1515>\u001b[0m in \u001b[0;36m<module>\u001b[0;34m()\u001b[0m\n\u001b[1;32m      1\u001b[0m \u001b[0ml\u001b[0m \u001b[0;34m=\u001b[0m \u001b[0;34m'abcdab'\u001b[0m\u001b[0;34m\u001b[0m\u001b[0m\n\u001b[0;32m----> 2\u001b[0;31m \u001b[0ml\u001b[0m\u001b[0;34m.\u001b[0m\u001b[0mindex\u001b[0m\u001b[0;34m(\u001b[0m\u001b[0;34m'abz'\u001b[0m\u001b[0;34m)\u001b[0m\u001b[0;34m\u001b[0m\u001b[0m\n\u001b[0m",
      "\u001b[0;31mValueError\u001b[0m: substring not found"
     ]
    }
   ],
   "source": [
    "l = 'abcdab'\n",
    "l.index('abz')"
   ]
  },
  {
   "cell_type": "code",
   "execution_count": 16,
   "metadata": {
    "collapsed": true
   },
   "outputs": [],
   "source": [
    "def destTone(originalTone, originalScale, destScale):\n",
    "    degree = originalScale.index(originalTone)\n",
    "    return destScale[degree]"
   ]
  },
  {
   "cell_type": "code",
   "execution_count": 25,
   "metadata": {
    "collapsed": false
   },
   "outputs": [
    {
     "data": {
      "text/plain": [
       "'Eb'"
      ]
     },
     "execution_count": 25,
     "metadata": {},
     "output_type": "execute_result"
    }
   ],
   "source": [
    "destTone('Ab', ['F', 'F#', 'G', 'Ab', 'A', 'Bb', 'B', 'C', 'Db', 'D', 'Eb', 'E'], ['C', 'C#', 'D', 'Eb', 'E', 'F', 'F#', 'G', 'Ab', 'A', 'Bb', 'B'])"
   ]
  },
  {
   "cell_type": "code",
   "execution_count": 66,
   "metadata": {
    "collapsed": true
   },
   "outputs": [],
   "source": [
    "def transposeLine(line, originalScale, destScale):\n",
    "    presentTones = re.findall(allTones, line)\n",
    "    sampleLine = line\n",
    "    while presentTones :\n",
    "        toneToReplace = presentTones.pop(0)\n",
    "        index = sampleLine.index(toneToReplace)\n",
    "        transposedTone = destTone(toneToReplace, originalScale, destScale)\n",
    "        sampleLine = sampleLine[:index] + 'X'*len(transposedTone) + sampleLine[index + len(toneToReplace):]\n",
    "        line = line[:index] + transposedTone + line[index + len(toneToReplace):]\n",
    "    return line\n",
    "        "
   ]
  },
  {
   "cell_type": "code",
   "execution_count": 54,
   "metadata": {
    "collapsed": false
   },
   "outputs": [
    {
     "name": "stdout",
     "output_type": "stream",
     "text": [
      "F\n",
      "  F         F#°           G-7sus      C  C+\n",
      "F#\n",
      "  X         F#°           G-7sus      C  C+\n",
      "G\n",
      "  X         XX°           G-7sus      C  C+\n",
      "C\n",
      "  X         XX°           X-7sus      C  C+\n",
      "C\n",
      "  X         XX°           X-7sus      X  C+\n"
     ]
    },
    {
     "data": {
      "text/plain": [
       "'  C         C#°           D-7sus      G  G+'"
      ]
     },
     "execution_count": 54,
     "metadata": {},
     "output_type": "execute_result"
    }
   ],
   "source": [
    "transposeLine(chordLine, Fscale, Cscale)"
   ]
  },
  {
   "cell_type": "code",
   "execution_count": 70,
   "metadata": {
    "collapsed": true
   },
   "outputs": [],
   "source": [
    "def transpose(text, originalTone, destTone):\n",
    "    result = \"\"\n",
    "    originalScale = getScale(originalTone)\n",
    "    destScale = getScale(destTone)\n",
    "    lines = text.split('\\n')\n",
    "    for i, line in enumerate(lines):\n",
    "        if i % 2 :  # if we're on a chord line, that is an odd numbered line\n",
    "            result += transposeLine(line, originalScale, destScale) + \"\\n\"\n",
    "        else :\n",
    "            result += line + \"\\n\"\n",
    "    return result"
   ]
  },
  {
   "cell_type": "code",
   "execution_count": 71,
   "metadata": {
    "collapsed": false
   },
   "outputs": [
    {
     "name": "stdout",
     "output_type": "stream",
     "text": [
      "Before Lord God made the sea and the land,\n",
      "  C         C°           D-7sus      G  G+\n",
      "He held all the stars in the palm of his hand\n",
      "   C6/E         A7b9         D-7         D-7b5\n",
      "And they ran through his fingers like grains of sand\n",
      "        C/E              Fmaj7 D-7   G7        C/G\n",
      "And one little star felt alone\n",
      "    C6/G D-/G  A7/G C°/G  G7\n",
      "\n"
     ]
    }
   ],
   "source": [
    "print(transpose(string, 'F', 'C'))"
   ]
  },
  {
   "cell_type": "code",
   "execution_count": null,
   "metadata": {
    "collapsed": true
   },
   "outputs": [],
   "source": []
  }
 ],
 "metadata": {
  "kernelspec": {
   "display_name": "Python 3",
   "language": "python",
   "name": "python3"
  },
  "language_info": {
   "codemirror_mode": {
    "name": "ipython",
    "version": 3
   },
   "file_extension": ".py",
   "mimetype": "text/x-python",
   "name": "python",
   "nbconvert_exporter": "python",
   "pygments_lexer": "ipython3",
   "version": "3.6.0"
  }
 },
 "nbformat": 4,
 "nbformat_minor": 2
}
